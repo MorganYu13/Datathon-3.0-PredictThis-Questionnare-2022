{
  "cells": [
    {
      "cell_type": "code",
      "execution_count": null,
      "metadata": {
        "id": "UsuOjTKbcB95"
      },
      "outputs": [],
      "source": [
        "import pandas as pd\n",
        "import numpy as np"
      ]
    },
    {
      "cell_type": "code",
      "execution_count": null,
      "metadata": {
        "id": "WZhG6IiseJ68"
      },
      "outputs": [],
      "source": [
        "url = 'data.csv'\n",
        "df = pd.read_csv('/content/data.csv', error_bad_lines=False)\n",
        "# Dataset is now stored in a Pandas Dataframe"
      ]
    },
    {
      "cell_type": "code",
      "source": [
        "print(df['release_date'].value_counts())"
      ],
      "metadata": {
        "id": "UoHNDuYbACgP"
      },
      "execution_count": null,
      "outputs": []
    },
    {
      "cell_type": "code",
      "execution_count": null,
      "metadata": {
        "id": "5RpXkdG4fcfI"
      },
      "outputs": [],
      "source": [
        "df.shape"
      ]
    },
    {
      "cell_type": "code",
      "execution_count": null,
      "metadata": {
        "id": "k14RirJKgbhG"
      },
      "outputs": [],
      "source": [
        "df.columns"
      ]
    },
    {
      "cell_type": "code",
      "execution_count": null,
      "metadata": {
        "id": "vWV771CXg52T"
      },
      "outputs": [],
      "source": [
        "vector_df = df.loc[:, ['valence', 'year', 'acousticness', 'danceability', 'energy', 'instrumentalness', 'key', 'liveness', 'loudness', 'popularity', 'speechiness', 'tempo']]\n",
        "vector_df"
      ]
    },
    {
      "cell_type": "code",
      "source": [
        "vector_df.shape"
      ],
      "metadata": {
        "id": "dPuoMPpvQ4YL"
      },
      "execution_count": null,
      "outputs": []
    },
    {
      "cell_type": "code",
      "execution_count": null,
      "metadata": {
        "id": "_7_mwBiQdVKE"
      },
      "outputs": [],
      "source": [
        "from sklearn import preprocessing\n",
        "min_max_scaler = preprocessing.MinMaxScaler()\n",
        "for i in vector_df.columns:\n",
        "  sr = pd.DataFrame(vector_df[i])\n",
        "  vector_df[i] = min_max_scaler.fit_transform(sr)\n",
        "vector_df"
      ]
    },
    {
      "cell_type": "code",
      "source": [
        "x = vector_df[i]\n",
        "y = vector_df[j]\n",
        "correlation, p_value = stats.pearsonr(x, y)\n",
        "\n",
        "\n",
        "print(correlation)"
      ],
      "metadata": {
        "id": "Le0K2kVSY0jy"
      },
      "execution_count": null,
      "outputs": []
    },
    {
      "cell_type": "code",
      "source": [
        "from scipy.stats.stats import pearsonr   \n",
        "maxi_corr = -1\n",
        "ti = 0\n",
        "tj = 0\n",
        "\n",
        "for i in vector_df.columns:\n",
        "  for j in vector_df.columns: \n",
        "    if i != j:\n",
        "      x = vector_df[i]\n",
        "      y = vector_df[j]\n",
        "      corr, p_value = pearsonr(x, y)\n",
        "      if abs(corr) >= 0.5:\n",
        "        print(i, j, abs(corr))\n",
        "      if maxi_corr < corr: \n",
        "        maxi_corr = corr \n",
        "        ti = i\n",
        "        tj = j\n",
        "\n",
        "print(ti, tj, maxi_corr)"
      ],
      "metadata": {
        "id": "5HfvKjAFWnDD"
      },
      "execution_count": null,
      "outputs": []
    },
    {
      "cell_type": "code",
      "source": [
        "vector_df.describe()"
      ],
      "metadata": {
        "id": "fW3pfWmrab4W"
      },
      "execution_count": null,
      "outputs": []
    },
    {
      "cell_type": "code",
      "execution_count": null,
      "metadata": {
        "id": "Lbe6vQss-Xkw"
      },
      "outputs": [],
      "source": [
        "vector_df.shape[0]"
      ]
    },
    {
      "cell_type": "code",
      "execution_count": null,
      "metadata": {
        "id": "ySVx47PHAITF"
      },
      "outputs": [],
      "source": [
        "result = []\n",
        "maxi = 0\n",
        "\n",
        "from scipy import spatial\n",
        "for i in range(0,vector_df.shape[0]):\n",
        "  a = list(vector_df.iloc[i])\n",
        "  l = []\n",
        "  for j in range(0,vector_df.shape[0]): \n",
        "    b = list(vector_df.iloc[j])\n",
        "    l.append(1 - spatial.distance.cosine(a, b)) \n",
        "    if 1 - spatial.distance.cosine(a, b) != 1:\n",
        "      maxi = maxi + 1 - spatial.distance.cosine(a, b)\n",
        "  result.append(l)\n",
        "\n",
        "sim = pd.DataFrame(np.array(result))\n",
        "#sim.values[[np.arange(df.shape[0])]*2] = 0\n",
        "\n",
        "sim"
      ]
    },
    {
      "cell_type": "code",
      "source": [
        "s = 0 \n",
        "for i in range(0, 15):\n",
        "  l = 0\n",
        "  for j in range(0, 15):\n",
        "    if i != j: \n",
        "      l = l + sim.iat[i,j]\n",
        "  s = s + l/14\n",
        "  print(i, l/14)"
      ],
      "metadata": {
        "id": "cRHIbnJp7jwc"
      },
      "execution_count": null,
      "outputs": []
    },
    {
      "cell_type": "code",
      "source": [
        "print(s/14)\n",
        "maxi = s/14"
      ],
      "metadata": {
        "id": "DzxAKwShUqnZ"
      },
      "execution_count": null,
      "outputs": []
    },
    {
      "cell_type": "markdown",
      "metadata": {
        "id": "Frgs8Br31vts"
      },
      "source": [
        "#Adjacency Matrix, Threshold and Filtering"
      ]
    },
    {
      "cell_type": "code",
      "execution_count": null,
      "metadata": {
        "id": "zGsUyv_pyo8t"
      },
      "outputs": [],
      "source": [
        "adj_mat = np.where(sim <= maxi, 0, 1)\n",
        "np.fill_diagonal(adj_mat, 0)\n",
        "adj_mat"
      ]
    },
    {
      "cell_type": "code",
      "source": [
        "dicts = {}\n",
        "keys = range(vector_df.shape[0])\n",
        "values = df.name\n",
        "for i in keys:\n",
        "        dicts[i] = values[i]\n",
        "dicts"
      ],
      "metadata": {
        "id": "2u590PrmbbLl"
      },
      "execution_count": null,
      "outputs": []
    },
    {
      "cell_type": "code",
      "execution_count": null,
      "metadata": {
        "id": "Ym3Lx7Aj0aA3"
      },
      "outputs": [],
      "source": [
        "import networkx as nx\n",
        "import matplotlib.pyplot as plt \n",
        "G = nx.Graph(adj_mat, seed= 123)\n",
        "fig = plt.figure(figsize=(20,20)) \n",
        "nx.draw(G, labels = dicts, with_labels = True)  \n",
        "plt.show()"
      ]
    },
    {
      "cell_type": "code",
      "source": [
        "list(nx.find_cliques(G))"
      ],
      "metadata": {
        "id": "771DvUNov3Zh"
      },
      "execution_count": null,
      "outputs": []
    },
    {
      "cell_type": "code",
      "source": [
        "for i in list(nx.find_cliques(G)): \n",
        "  for j in i: \n",
        "    print(dicts[j]), \n",
        "  print()"
      ],
      "metadata": {
        "id": "m1MLKvVav6ek"
      },
      "execution_count": null,
      "outputs": []
    },
    {
      "cell_type": "code",
      "source": [
        "G1 = nx.subgraph(G, [0, 10])\n",
        "G2 = nx.subgraph(G, [2, 7, 12, 4, 1, 13, 14])\n",
        "\n",
        "print(nx.graph_edit_distance(G1, G2))"
      ],
      "metadata": {
        "id": "M0n4Rqrm5o8d"
      },
      "execution_count": null,
      "outputs": []
    },
    {
      "cell_type": "code",
      "source": [
        "nx.degree_centrality(G)"
      ],
      "metadata": {
        "id": "PDSYn6GUxVvB"
      },
      "execution_count": null,
      "outputs": []
    },
    {
      "cell_type": "code",
      "source": [
        "from networkx.algorithms import community\n",
        "communities_generator = community.girvan_newman(G)\n",
        "top_level_communities = next(communities_generator) #1st\n",
        "next_level_communities = next(communities_generator) #2nd\n",
        "next_next_level_communities = next(communities_generator) #3rd\n",
        "sorted(map(sorted, next_next_level_communities)) #4th"
      ],
      "metadata": {
        "id": "YSGpfsyi0UhM"
      },
      "execution_count": null,
      "outputs": []
    },
    {
      "cell_type": "code",
      "source": [
        "nx.density(G)"
      ],
      "metadata": {
        "id": "cfegm2D45g5a"
      },
      "execution_count": null,
      "outputs": []
    },
    {
      "cell_type": "code",
      "source": [
        "nx.degree_histogram(G)"
      ],
      "metadata": {
        "id": "sJ-tIa7w4jr6"
      },
      "execution_count": null,
      "outputs": []
    },
    {
      "cell_type": "code",
      "source": [
        "nx.diameter(G)"
      ],
      "metadata": {
        "id": "Oalklc-VA0Jz"
      },
      "execution_count": null,
      "outputs": []
    },
    {
      "cell_type": "code",
      "source": [
        "list(nx.common_neighbors(G, 6, 1))"
      ],
      "metadata": {
        "id": "E2k8RjgO58Gn"
      },
      "execution_count": null,
      "outputs": []
    },
    {
      "cell_type": "code",
      "source": [
        "list(nx.non_neighbors(G, 4))"
      ],
      "metadata": {
        "id": "jGfW3gSH7USm"
      },
      "execution_count": null,
      "outputs": []
    },
    {
      "cell_type": "code",
      "source": [
        "list(nx.edges(G))"
      ],
      "metadata": {
        "id": "8KovWDja9Sej"
      },
      "execution_count": null,
      "outputs": []
    },
    {
      "cell_type": "code",
      "source": [
        "from networkx.algorithms.approximation import traveling_salesman_problem as tsp\n",
        "tsp(G)"
      ],
      "metadata": {
        "id": "ZPyhTAL2BrC-"
      },
      "execution_count": null,
      "outputs": []
    },
    {
      "cell_type": "code",
      "source": [
        "nx.has_bridges(G)"
      ],
      "metadata": {
        "id": "DWCs0g4fCVAt"
      },
      "execution_count": null,
      "outputs": []
    },
    {
      "cell_type": "code",
      "source": [
        "print(nx.triangles(G))"
      ],
      "metadata": {
        "id": "SVrEQJ0OGFh4"
      },
      "execution_count": null,
      "outputs": []
    },
    {
      "cell_type": "code",
      "source": [
        "li = [2, 7, 12, 4, 1, 13, 14]\n",
        "for i in li: \n",
        "  print(nx.degree_centrality(G)[i])"
      ],
      "metadata": {
        "id": "VQK7DLk6HUrF"
      },
      "execution_count": null,
      "outputs": []
    },
    {
      "cell_type": "code",
      "source": [],
      "metadata": {
        "id": "euBUTCTiIrfs"
      },
      "execution_count": null,
      "outputs": []
    }
  ],
  "metadata": {
    "colab": {
      "private_outputs": true,
      "provenance": [],
      "toc_visible": true
    },
    "kernelspec": {
      "display_name": "Python 3",
      "language": "python",
      "name": "python3"
    },
    "language_info": {
      "codemirror_mode": {
        "name": "ipython",
        "version": 3
      },
      "file_extension": ".py",
      "mimetype": "text/x-python",
      "name": "python",
      "nbconvert_exporter": "python",
      "pygments_lexer": "ipython3",
      "version": "3.8.3"
    }
  },
  "nbformat": 4,
  "nbformat_minor": 0
}